{
 "cells": [
  {
   "cell_type": "code",
   "execution_count": 3,
   "id": "1c04c2e6",
   "metadata": {},
   "outputs": [],
   "source": [
    "import pandas as pd\n",
    "import seaborn as sns"
   ]
  },
  {
   "cell_type": "code",
   "execution_count": 4,
   "id": "ba216b53",
   "metadata": {},
   "outputs": [],
   "source": [
    "df = pd.read_csv(\"dataset_p5.csv\")"
   ]
  },
  {
   "cell_type": "code",
   "execution_count": 35,
   "id": "34242e6b",
   "metadata": {},
   "outputs": [
    {
     "data": {
      "text/html": [
       "<div>\n",
       "<style scoped>\n",
       "    .dataframe tbody tr th:only-of-type {\n",
       "        vertical-align: middle;\n",
       "    }\n",
       "\n",
       "    .dataframe tbody tr th {\n",
       "        vertical-align: top;\n",
       "    }\n",
       "\n",
       "    .dataframe thead th {\n",
       "        text-align: right;\n",
       "    }\n",
       "</style>\n",
       "<table border=\"1\" class=\"dataframe\">\n",
       "  <thead>\n",
       "    <tr style=\"text-align: right;\">\n",
       "      <th></th>\n",
       "      <th>Unnamed: 0.1</th>\n",
       "      <th>Unnamed: 0</th>\n",
       "      <th>Make</th>\n",
       "      <th>Year of manufacture</th>\n",
       "      <th>Condition</th>\n",
       "      <th>Mileage</th>\n",
       "      <th>Engine Size</th>\n",
       "      <th>Fuel</th>\n",
       "      <th>Transmission</th>\n",
       "      <th>Price</th>\n",
       "      <th>Build</th>\n",
       "    </tr>\n",
       "  </thead>\n",
       "  <tbody>\n",
       "    <tr>\n",
       "      <th>0</th>\n",
       "      <td>0</td>\n",
       "      <td>0</td>\n",
       "      <td>Toyota</td>\n",
       "      <td>2007.000000</td>\n",
       "      <td>Nigerian Used</td>\n",
       "      <td>166418.0</td>\n",
       "      <td>2400.000000</td>\n",
       "      <td>Petrol</td>\n",
       "      <td>Automatic</td>\n",
       "      <td>3,120,000</td>\n",
       "      <td>SUV</td>\n",
       "    </tr>\n",
       "    <tr>\n",
       "      <th>1</th>\n",
       "      <td>1</td>\n",
       "      <td>1</td>\n",
       "      <td>Lexus</td>\n",
       "      <td>2007.898535</td>\n",
       "      <td>Nigerian Used</td>\n",
       "      <td>138024.0</td>\n",
       "      <td>3274.976562</td>\n",
       "      <td>Petrol</td>\n",
       "      <td>Automatic</td>\n",
       "      <td>5,834,000</td>\n",
       "      <td>SUV</td>\n",
       "    </tr>\n",
       "    <tr>\n",
       "      <th>2</th>\n",
       "      <td>2</td>\n",
       "      <td>2</td>\n",
       "      <td>Mercedes-Benz</td>\n",
       "      <td>2008.000000</td>\n",
       "      <td>Nigerian Used</td>\n",
       "      <td>376807.0</td>\n",
       "      <td>3000.000000</td>\n",
       "      <td>Petrol</td>\n",
       "      <td>Automatic</td>\n",
       "      <td>3,640,000</td>\n",
       "      <td>SUV</td>\n",
       "    </tr>\n",
       "    <tr>\n",
       "      <th>3</th>\n",
       "      <td>3</td>\n",
       "      <td>3</td>\n",
       "      <td>Lexus</td>\n",
       "      <td>2007.898535</td>\n",
       "      <td>Nigerian Used</td>\n",
       "      <td>213362.0</td>\n",
       "      <td>3274.976562</td>\n",
       "      <td>Petrol</td>\n",
       "      <td>Automatic</td>\n",
       "      <td>3,594,000</td>\n",
       "      <td>SUV</td>\n",
       "    </tr>\n",
       "    <tr>\n",
       "      <th>4</th>\n",
       "      <td>4</td>\n",
       "      <td>4</td>\n",
       "      <td>Mercedes-Benz</td>\n",
       "      <td>2007.898535</td>\n",
       "      <td>Nigerian Used</td>\n",
       "      <td>106199.0</td>\n",
       "      <td>3274.976562</td>\n",
       "      <td>Petrol</td>\n",
       "      <td>Automatic</td>\n",
       "      <td>8,410,000</td>\n",
       "      <td>SUV</td>\n",
       "    </tr>\n",
       "    <tr>\n",
       "      <th>5</th>\n",
       "      <td>5</td>\n",
       "      <td>5</td>\n",
       "      <td>Mercedes-Benz</td>\n",
       "      <td>2007.898535</td>\n",
       "      <td>Nigerian Used</td>\n",
       "      <td>87660.0</td>\n",
       "      <td>3274.976562</td>\n",
       "      <td>Petrol</td>\n",
       "      <td>Automatic</td>\n",
       "      <td>5,554,000</td>\n",
       "      <td>SUV</td>\n",
       "    </tr>\n",
       "    <tr>\n",
       "      <th>6</th>\n",
       "      <td>6</td>\n",
       "      <td>6</td>\n",
       "      <td>Lexus</td>\n",
       "      <td>2007.898535</td>\n",
       "      <td>Nigerian Used</td>\n",
       "      <td>191411.0</td>\n",
       "      <td>3274.976562</td>\n",
       "      <td>Petrol</td>\n",
       "      <td>Automatic</td>\n",
       "      <td>3,706,000</td>\n",
       "      <td>SUV</td>\n",
       "    </tr>\n",
       "    <tr>\n",
       "      <th>7</th>\n",
       "      <td>7</td>\n",
       "      <td>7</td>\n",
       "      <td>Lexus</td>\n",
       "      <td>2007.898535</td>\n",
       "      <td>Nigerian Used</td>\n",
       "      <td>59092.0</td>\n",
       "      <td>3274.976562</td>\n",
       "      <td>Petrol</td>\n",
       "      <td>Automatic</td>\n",
       "      <td>8,410,000</td>\n",
       "      <td>SUV</td>\n",
       "    </tr>\n",
       "    <tr>\n",
       "      <th>8</th>\n",
       "      <td>8</td>\n",
       "      <td>8</td>\n",
       "      <td>Mercedes-Benz</td>\n",
       "      <td>2007.898535</td>\n",
       "      <td>Nigerian Used</td>\n",
       "      <td>89423.0</td>\n",
       "      <td>3274.976562</td>\n",
       "      <td>Petrol</td>\n",
       "      <td>Automatic</td>\n",
       "      <td>6,506,000</td>\n",
       "      <td>SUV</td>\n",
       "    </tr>\n",
       "    <tr>\n",
       "      <th>9</th>\n",
       "      <td>9</td>\n",
       "      <td>9</td>\n",
       "      <td>Lexus</td>\n",
       "      <td>2007.898535</td>\n",
       "      <td>Nigerian Used</td>\n",
       "      <td>184827.0</td>\n",
       "      <td>3274.976562</td>\n",
       "      <td>Petrol</td>\n",
       "      <td>Automatic</td>\n",
       "      <td>4,000,000</td>\n",
       "      <td>SUV</td>\n",
       "    </tr>\n",
       "  </tbody>\n",
       "</table>\n",
       "</div>"
      ],
      "text/plain": [
       "   Unnamed: 0.1  Unnamed: 0           Make  Year of manufacture  \\\n",
       "0             0           0         Toyota          2007.000000   \n",
       "1             1           1          Lexus          2007.898535   \n",
       "2             2           2  Mercedes-Benz          2008.000000   \n",
       "3             3           3          Lexus          2007.898535   \n",
       "4             4           4  Mercedes-Benz          2007.898535   \n",
       "5             5           5  Mercedes-Benz          2007.898535   \n",
       "6             6           6          Lexus          2007.898535   \n",
       "7             7           7          Lexus          2007.898535   \n",
       "8             8           8  Mercedes-Benz          2007.898535   \n",
       "9             9           9          Lexus          2007.898535   \n",
       "\n",
       "       Condition   Mileage  Engine Size    Fuel Transmission      Price Build  \n",
       "0  Nigerian Used  166418.0  2400.000000  Petrol    Automatic  3,120,000   SUV  \n",
       "1  Nigerian Used  138024.0  3274.976562  Petrol    Automatic  5,834,000   SUV  \n",
       "2  Nigerian Used  376807.0  3000.000000  Petrol    Automatic  3,640,000   SUV  \n",
       "3  Nigerian Used  213362.0  3274.976562  Petrol    Automatic  3,594,000   SUV  \n",
       "4  Nigerian Used  106199.0  3274.976562  Petrol    Automatic  8,410,000   SUV  \n",
       "5  Nigerian Used   87660.0  3274.976562  Petrol    Automatic  5,554,000   SUV  \n",
       "6  Nigerian Used  191411.0  3274.976562  Petrol    Automatic  3,706,000   SUV  \n",
       "7  Nigerian Used   59092.0  3274.976562  Petrol    Automatic  8,410,000   SUV  \n",
       "8  Nigerian Used   89423.0  3274.976562  Petrol    Automatic  6,506,000   SUV  \n",
       "9  Nigerian Used  184827.0  3274.976562  Petrol    Automatic  4,000,000   SUV  "
      ]
     },
     "execution_count": 35,
     "metadata": {},
     "output_type": "execute_result"
    }
   ],
   "source": [
    "df.head(10)"
   ]
  },
  {
   "cell_type": "markdown",
   "id": "25fd35f6",
   "metadata": {},
   "source": [
    "### Menentukan kolom untuk patokan Nilai"
   ]
  },
  {
   "cell_type": "code",
   "execution_count": 8,
   "id": "398d7aab",
   "metadata": {},
   "outputs": [
    {
     "data": {
      "text/plain": [
       "array(['Automatic', 'Manual', 'AMT', 'CVT'], dtype=object)"
      ]
     },
     "execution_count": 8,
     "metadata": {},
     "output_type": "execute_result"
    }
   ],
   "source": [
    "df['Transmission'].unique()"
   ]
  },
  {
   "cell_type": "markdown",
   "id": "1bf3d25c",
   "metadata": {},
   "source": [
    "# Data Splitting"
   ]
  },
  {
   "cell_type": "code",
   "execution_count": 19,
   "id": "f09ae6c4",
   "metadata": {},
   "outputs": [],
   "source": [
    "X = df[['Year of manufacture','Mileage', 'Engine Size']]\n",
    "Y = df['Transmission']"
   ]
  },
  {
   "cell_type": "code",
   "execution_count": 20,
   "id": "ce28489f",
   "metadata": {},
   "outputs": [],
   "source": [
    "from sklearn.model_selection import train_test_split"
   ]
  },
  {
   "cell_type": "code",
   "execution_count": 21,
   "id": "54655504",
   "metadata": {},
   "outputs": [],
   "source": [
    "X_train, X_test, Y_train, Y_test = train_test_split(X,Y, test_size=0.2, random_state=0)"
   ]
  },
  {
   "cell_type": "markdown",
   "id": "019bf8fe",
   "metadata": {},
   "source": [
    "# 1.Algoritma Naive Bayes"
   ]
  },
  {
   "cell_type": "code",
   "execution_count": 36,
   "id": "dccedcd2",
   "metadata": {},
   "outputs": [],
   "source": [
    "from sklearn.naive_bayes import GaussianNB\n",
    "from sklearn.metrics import accuracy_score"
   ]
  },
  {
   "cell_type": "code",
   "execution_count": 23,
   "id": "9c9df01a",
   "metadata": {},
   "outputs": [],
   "source": [
    "GNB = GaussianNB().fit(X_train, Y_train)"
   ]
  },
  {
   "cell_type": "code",
   "execution_count": 24,
   "id": "a5391671",
   "metadata": {},
   "outputs": [],
   "source": [
    "GNBpredict = GNB.predict(X_test)"
   ]
  },
  {
   "cell_type": "code",
   "execution_count": 42,
   "id": "b9aad706",
   "metadata": {},
   "outputs": [
    {
     "name": "stdout",
     "output_type": "stream",
     "text": [
      "Akurasi Algoritma Naive Bayes :\n"
     ]
    },
    {
     "data": {
      "text/plain": [
       "0.9304029304029304"
      ]
     },
     "execution_count": 42,
     "metadata": {},
     "output_type": "execute_result"
    }
   ],
   "source": [
    "print(\"Akurasi Algoritma Naive Bayes :\")\n",
    "accuracy_score(GNBpredict, Y_test)"
   ]
  },
  {
   "cell_type": "markdown",
   "id": "a22f40ed",
   "metadata": {},
   "source": [
    "# Algoritma K-Nearest Neighbor"
   ]
  },
  {
   "cell_type": "code",
   "execution_count": 44,
   "id": "d7f7d182",
   "metadata": {},
   "outputs": [],
   "source": [
    "from sklearn.neighbors import KNeighborsClassifier"
   ]
  },
  {
   "cell_type": "code",
   "execution_count": 45,
   "id": "958366e4",
   "metadata": {},
   "outputs": [],
   "source": [
    "modelKNN = KNeighborsClassifier(n_neighbors = 5)"
   ]
  },
  {
   "cell_type": "code",
   "execution_count": 46,
   "id": "131bf5ec",
   "metadata": {},
   "outputs": [
    {
     "data": {
      "text/html": [
       "<style>#sk-container-id-2 {color: black;background-color: white;}#sk-container-id-2 pre{padding: 0;}#sk-container-id-2 div.sk-toggleable {background-color: white;}#sk-container-id-2 label.sk-toggleable__label {cursor: pointer;display: block;width: 100%;margin-bottom: 0;padding: 0.3em;box-sizing: border-box;text-align: center;}#sk-container-id-2 label.sk-toggleable__label-arrow:before {content: \"▸\";float: left;margin-right: 0.25em;color: #696969;}#sk-container-id-2 label.sk-toggleable__label-arrow:hover:before {color: black;}#sk-container-id-2 div.sk-estimator:hover label.sk-toggleable__label-arrow:before {color: black;}#sk-container-id-2 div.sk-toggleable__content {max-height: 0;max-width: 0;overflow: hidden;text-align: left;background-color: #f0f8ff;}#sk-container-id-2 div.sk-toggleable__content pre {margin: 0.2em;color: black;border-radius: 0.25em;background-color: #f0f8ff;}#sk-container-id-2 input.sk-toggleable__control:checked~div.sk-toggleable__content {max-height: 200px;max-width: 100%;overflow: auto;}#sk-container-id-2 input.sk-toggleable__control:checked~label.sk-toggleable__label-arrow:before {content: \"▾\";}#sk-container-id-2 div.sk-estimator input.sk-toggleable__control:checked~label.sk-toggleable__label {background-color: #d4ebff;}#sk-container-id-2 div.sk-label input.sk-toggleable__control:checked~label.sk-toggleable__label {background-color: #d4ebff;}#sk-container-id-2 input.sk-hidden--visually {border: 0;clip: rect(1px 1px 1px 1px);clip: rect(1px, 1px, 1px, 1px);height: 1px;margin: -1px;overflow: hidden;padding: 0;position: absolute;width: 1px;}#sk-container-id-2 div.sk-estimator {font-family: monospace;background-color: #f0f8ff;border: 1px dotted black;border-radius: 0.25em;box-sizing: border-box;margin-bottom: 0.5em;}#sk-container-id-2 div.sk-estimator:hover {background-color: #d4ebff;}#sk-container-id-2 div.sk-parallel-item::after {content: \"\";width: 100%;border-bottom: 1px solid gray;flex-grow: 1;}#sk-container-id-2 div.sk-label:hover label.sk-toggleable__label {background-color: #d4ebff;}#sk-container-id-2 div.sk-serial::before {content: \"\";position: absolute;border-left: 1px solid gray;box-sizing: border-box;top: 0;bottom: 0;left: 50%;z-index: 0;}#sk-container-id-2 div.sk-serial {display: flex;flex-direction: column;align-items: center;background-color: white;padding-right: 0.2em;padding-left: 0.2em;position: relative;}#sk-container-id-2 div.sk-item {position: relative;z-index: 1;}#sk-container-id-2 div.sk-parallel {display: flex;align-items: stretch;justify-content: center;background-color: white;position: relative;}#sk-container-id-2 div.sk-item::before, #sk-container-id-2 div.sk-parallel-item::before {content: \"\";position: absolute;border-left: 1px solid gray;box-sizing: border-box;top: 0;bottom: 0;left: 50%;z-index: -1;}#sk-container-id-2 div.sk-parallel-item {display: flex;flex-direction: column;z-index: 1;position: relative;background-color: white;}#sk-container-id-2 div.sk-parallel-item:first-child::after {align-self: flex-end;width: 50%;}#sk-container-id-2 div.sk-parallel-item:last-child::after {align-self: flex-start;width: 50%;}#sk-container-id-2 div.sk-parallel-item:only-child::after {width: 0;}#sk-container-id-2 div.sk-dashed-wrapped {border: 1px dashed gray;margin: 0 0.4em 0.5em 0.4em;box-sizing: border-box;padding-bottom: 0.4em;background-color: white;}#sk-container-id-2 div.sk-label label {font-family: monospace;font-weight: bold;display: inline-block;line-height: 1.2em;}#sk-container-id-2 div.sk-label-container {text-align: center;}#sk-container-id-2 div.sk-container {/* jupyter's `normalize.less` sets `[hidden] { display: none; }` but bootstrap.min.css set `[hidden] { display: none !important; }` so we also need the `!important` here to be able to override the default hidden behavior on the sphinx rendered scikit-learn.org. See: https://github.com/scikit-learn/scikit-learn/issues/21755 */display: inline-block !important;position: relative;}#sk-container-id-2 div.sk-text-repr-fallback {display: none;}</style><div id=\"sk-container-id-2\" class=\"sk-top-container\"><div class=\"sk-text-repr-fallback\"><pre>KNeighborsClassifier()</pre><b>In a Jupyter environment, please rerun this cell to show the HTML representation or trust the notebook. <br />On GitHub, the HTML representation is unable to render, please try loading this page with nbviewer.org.</b></div><div class=\"sk-container\" hidden><div class=\"sk-item\"><div class=\"sk-estimator sk-toggleable\"><input class=\"sk-toggleable__control sk-hidden--visually\" id=\"sk-estimator-id-2\" type=\"checkbox\" checked><label for=\"sk-estimator-id-2\" class=\"sk-toggleable__label sk-toggleable__label-arrow\">KNeighborsClassifier</label><div class=\"sk-toggleable__content\"><pre>KNeighborsClassifier()</pre></div></div></div></div></div>"
      ],
      "text/plain": [
       "KNeighborsClassifier()"
      ]
     },
     "execution_count": 46,
     "metadata": {},
     "output_type": "execute_result"
    }
   ],
   "source": [
    "modelKNN.fit(X_train, Y_train)"
   ]
  },
  {
   "cell_type": "code",
   "execution_count": 50,
   "id": "395a0da8",
   "metadata": {},
   "outputs": [
    {
     "name": "stdout",
     "output_type": "stream",
     "text": [
      "Akurasi Training KNN : 0.9401709401709402\n",
      "Akurasi Test KNN : 0.927960927960928\n"
     ]
    }
   ],
   "source": [
    "print(f'Akurasi Training KNN : {modelKNN.score(X_train, Y_train)}')\n",
    "print(f'Akurasi Test KNN : {modelKNN.score(X_test, Y_test)}')"
   ]
  },
  {
   "cell_type": "markdown",
   "id": "ef3a9b22",
   "metadata": {},
   "source": [
    "# Algoritma Support Vector Machine (SVM)"
   ]
  },
  {
   "cell_type": "code",
   "execution_count": 51,
   "id": "64fa2fef",
   "metadata": {},
   "outputs": [],
   "source": [
    "from sklearn.svm import SVC"
   ]
  },
  {
   "cell_type": "code",
   "execution_count": 52,
   "id": "bdcba742",
   "metadata": {},
   "outputs": [],
   "source": [
    "SVC = SVC().fit(X_train, Y_train)\n",
    "SVC_predict = SVC.predict(X_test)"
   ]
  },
  {
   "cell_type": "code",
   "execution_count": 53,
   "id": "2dd787ab",
   "metadata": {},
   "outputs": [
    {
     "name": "stdout",
     "output_type": "stream",
     "text": [
      "Akurasi Training Algoritma SVM: 0.9343711843711844\n",
      "Akurasi Test Algoritma SVM : 0.938949938949939\n"
     ]
    }
   ],
   "source": [
    "print(f'Akurasi Training Algoritma SVM: {SVC.score(X_train, Y_train)}')\n",
    "print(f'Akurasi Test Algoritma SVM : {SVC.score(X_test, Y_test)}')"
   ]
  },
  {
   "cell_type": "markdown",
   "id": "d0804440",
   "metadata": {},
   "source": [
    "# Perbandingan SCORE dari berbagai Algoritma"
   ]
  },
  {
   "cell_type": "code",
   "execution_count": 61,
   "id": "95967433",
   "metadata": {},
   "outputs": [
    {
     "name": "stdout",
     "output_type": "stream",
     "text": [
      "Perbandingan Antar Algoritma\n",
      "Akurasi Training menggunakan KNN : 0.9401709401709402\n",
      "Akurasi Training menggunakan SVM : 0.9343711843711844\n",
      "=====================================================\n",
      "Akurasi Test menggunakan KNN : 0.927960927960928\n",
      "Akurasi Test menggunakan SVM : 0.938949938949939\n"
     ]
    }
   ],
   "source": [
    "print(\"Perbandingan Antar Algoritma\")\n",
    "print(f'Akurasi Training menggunakan KNN : {modelKNN.score(X_train, Y_train)}')\n",
    "print(f'Akurasi Training menggunakan SVM : {SVC.score(X_train, Y_train)}')\n",
    "print(\"=====================================================\")\n",
    "print(f'Akurasi Test menggunakan KNN : {modelKNN.score(X_test, Y_test)}')\n",
    "print(f'Akurasi Test menggunakan SVM : {SVC.score(X_test, Y_test)}')"
   ]
  },
  {
   "cell_type": "code",
   "execution_count": null,
   "id": "1445efef",
   "metadata": {},
   "outputs": [],
   "source": []
  },
  {
   "cell_type": "code",
   "execution_count": null,
   "id": "2fe0b2da",
   "metadata": {},
   "outputs": [],
   "source": []
  },
  {
   "cell_type": "code",
   "execution_count": null,
   "id": "73779e14",
   "metadata": {},
   "outputs": [],
   "source": []
  },
  {
   "cell_type": "code",
   "execution_count": null,
   "id": "6d9e1921",
   "metadata": {},
   "outputs": [],
   "source": []
  }
 ],
 "metadata": {
  "kernelspec": {
   "display_name": "Python 3 (ipykernel)",
   "language": "python",
   "name": "python3"
  },
  "language_info": {
   "codemirror_mode": {
    "name": "ipython",
    "version": 3
   },
   "file_extension": ".py",
   "mimetype": "text/x-python",
   "name": "python",
   "nbconvert_exporter": "python",
   "pygments_lexer": "ipython3",
   "version": "3.10.7"
  }
 },
 "nbformat": 4,
 "nbformat_minor": 5
}
